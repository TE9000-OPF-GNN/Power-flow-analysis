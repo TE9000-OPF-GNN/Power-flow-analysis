{
 "cells": [
  {
   "cell_type": "markdown",
   "metadata": {},
   "source": [
    "# Getting started with using LF Energy for load flow simulations\n",
    "Before first go, these commands should be run to make sure the environment is set"
   ]
  },
  {
   "cell_type": "markdown",
   "metadata": {},
   "source": [
    "I am using uv to handle dependecies etc. so commands are based on this.\n"
   ]
  },
  {
   "cell_type": "raw",
   "metadata": {
    "vscode": {
     "languageId": "raw"
    }
   },
   "source": [
    "# Create venv\n",
    "uv venv\n",
    "# Activate it\n",
    ".\\.venv\\Scripts\\activate\n",
    "#kernel for the environment\n",
    "uv add \n",
    "# Install packages in the venv\n",
    "uv add pypowsybl"
   ]
  },
  {
   "cell_type": "code",
   "execution_count": 1,
   "metadata": {},
   "outputs": [],
   "source": [
    "#importing the libraries\n",
    "import pypowsybl as pp\n",
    "import pandas as pd\n",
    "import numpy as np\n",
    "import matplotlib as plt"
   ]
  },
  {
   "cell_type": "code",
   "execution_count": 2,
   "metadata": {},
   "outputs": [],
   "source": [
    "# code to create the network\n",
    "def create_9_bus_network():\n",
    "    n = pp.network.create_ieee9() #creating the network based on built in network template\n",
    "    buses=n.get_buses()\n",
    "    print(buses)\n",
    "    \n",
    "    generators=n.get_generators()\n",
    "    print(generators)\n",
    "    \n",
    "    lines=n.get_lines()\n",
    "    print(lines)\n",
    "    \n",
    "    transformers=n.get_2_windings_transformers()\n",
    "    print(transformers)\n",
    "    \n",
    "    loads=n.get_loads()\n",
    "    print(loads)\n",
    "    return n"
   ]
  },
  {
   "cell_type": "code",
   "execution_count": 3,
   "metadata": {},
   "outputs": [
    {
     "name": "stdout",
     "output_type": "stream",
     "text": [
      "      name  v_mag  v_angle  connected_component  synchronous_component  \\\n",
      "id                                                                       \n",
      "VL1_0       104.0   0.0000                    0                      0   \n",
      "VL1_1       102.5  -2.2160                    0                      0   \n",
      "VL2_0       102.5   9.2800                    0                      0   \n",
      "VL2_1       102.5   3.7197                    0                      0   \n",
      "VL3_0       102.5   4.6647                    0                      0   \n",
      "VL3_1       103.2   1.9667                    0                      0   \n",
      "VL5_0        99.5  -3.9880                    0                      0   \n",
      "VL6_0       101.2  -3.6870                    0                      0   \n",
      "VL8_0       101.5   0.7275                    0                      0   \n",
      "\n",
      "      voltage_level_id  \n",
      "id                      \n",
      "VL1_0              VL1  \n",
      "VL1_1              VL1  \n",
      "VL2_0              VL2  \n",
      "VL2_1              VL2  \n",
      "VL3_0              VL3  \n",
      "VL3_1              VL3  \n",
      "VL5_0              VL5  \n",
      "VL6_0              VL6  \n",
      "VL8_0              VL8  \n",
      "     name energy_source   target_p   min_p   max_p    min_q     max_q  \\\n",
      "id                                                                      \n",
      "B1-G              OTHER   71.64102 -9999.0  9999.0 -99990.0  999900.0   \n",
      "B2-G              OTHER  163.00000 -9999.0  9999.0 -99990.0  999900.0   \n",
      "B3-G              OTHER   85.00000 -9999.0  9999.0 -99990.0  999900.0   \n",
      "\n",
      "      rated_s reactive_limits_kind  target_v  target_q  voltage_regulator_on  \\\n",
      "id                                                                             \n",
      "B1-G      NaN              MIN_MAX     104.0  27.04592                  True   \n",
      "B2-G      NaN              MIN_MAX     102.5   6.65366                  True   \n",
      "B3-G      NaN              MIN_MAX     102.5 -10.85970                  True   \n",
      "\n",
      "     regulated_element_id   p   q   i voltage_level_id bus_id  connected  \n",
      "id                                                                        \n",
      "B1-G                 B1-G NaN NaN NaN              VL1  VL1_0       True  \n",
      "B2-G                 B2-G NaN NaN NaN              VL2  VL2_0       True  \n",
      "B3-G                 B3-G NaN NaN NaN              VL3  VL3_0       True  \n",
      "       name     r      x   g1        b1   g2        b2  p1  q1  i1  p2  q2  \\\n",
      "id                                                                           \n",
      "L7-8-0       0.85   7.20  0.0  0.000745  0.0  0.000745 NaN NaN NaN NaN NaN   \n",
      "L9-8-0       1.19  10.08  0.0  0.001045  0.0  0.001045 NaN NaN NaN NaN NaN   \n",
      "L7-5-0       3.20  16.10  0.0  0.001530  0.0  0.001530 NaN NaN NaN NaN NaN   \n",
      "L9-6-0       3.90  17.00  0.0  0.001790  0.0  0.001790 NaN NaN NaN NaN NaN   \n",
      "L5-4-0       1.00   8.50  0.0  0.000880  0.0  0.000880 NaN NaN NaN NaN NaN   \n",
      "L6-4-0       1.70   9.20  0.0  0.000790  0.0  0.000790 NaN NaN NaN NaN NaN   \n",
      "\n",
      "        i2 voltage_level1_id voltage_level2_id bus1_id bus2_id  connected1  \\\n",
      "id                                                                           \n",
      "L7-8-0 NaN               VL2               VL8   VL2_1   VL8_0        True   \n",
      "L9-8-0 NaN               VL3               VL8   VL3_1   VL8_0        True   \n",
      "L7-5-0 NaN               VL2               VL5   VL2_1   VL5_0        True   \n",
      "L9-6-0 NaN               VL3               VL6   VL3_1   VL6_0        True   \n",
      "L5-4-0 NaN               VL5               VL1   VL5_0   VL1_1        True   \n",
      "L6-4-0 NaN               VL6               VL1   VL6_0   VL1_1        True   \n",
      "\n",
      "        connected2  \n",
      "id                  \n",
      "L7-8-0        True  \n",
      "L9-8-0        True  \n",
      "L7-5-0        True  \n",
      "L9-6-0        True  \n",
      "L5-4-0        True  \n",
      "L6-4-0        True  \n",
      "       name    r     x    g    b  rated_u1  rated_u2  rated_s  p1  q1  i1  p2  \\\n",
      "id                                                                              \n",
      "T4-1-0       0.0  5.76  0.0  0.0     100.0     100.0      NaN NaN NaN NaN NaN   \n",
      "T7-2-0       0.0  6.25  0.0  0.0     100.0     100.0      NaN NaN NaN NaN NaN   \n",
      "T9-3-0       0.0  5.86  0.0  0.0     100.0     100.0      NaN NaN NaN NaN NaN   \n",
      "\n",
      "        q2  i2 voltage_level1_id voltage_level2_id bus1_id bus2_id  \\\n",
      "id                                                                   \n",
      "T4-1-0 NaN NaN               VL1               VL1   VL1_1   VL1_0   \n",
      "T7-2-0 NaN NaN               VL2               VL2   VL2_1   VL2_0   \n",
      "T9-3-0 NaN NaN               VL3               VL3   VL3_1   VL3_0   \n",
      "\n",
      "        connected1  connected2  \n",
      "id                              \n",
      "T4-1-0        True        True  \n",
      "T7-2-0        True        True  \n",
      "T9-3-0        True        True  \n",
      "     name       type     p0    q0   p   q   i voltage_level_id bus_id  \\\n",
      "id                                                                      \n",
      "B5-L       UNDEFINED  125.0  50.0 NaN NaN NaN              VL5  VL5_0   \n",
      "B6-L       UNDEFINED   90.0  30.0 NaN NaN NaN              VL6  VL6_0   \n",
      "B8-L       UNDEFINED  100.0  35.0 NaN NaN NaN              VL8  VL8_0   \n",
      "\n",
      "      connected  \n",
      "id               \n",
      "B5-L       True  \n",
      "B6-L       True  \n",
      "B8-L       True  \n"
     ]
    }
   ],
   "source": [
    "n=create_9_bus_network()\n",
    "results=pp.loadflow.run_ac(n)\n",
    "n.write_network_area_diagram_svg('ieee9.svg')\n"
   ]
  },
  {
   "cell_type": "code",
   "execution_count": 4,
   "metadata": {},
   "outputs": [
    {
     "name": "stdout",
     "output_type": "stream",
     "text": [
      "[ComponentResult(connected_component_num=0, synchronous_component_num=0, status=CONVERGED, status_text=Converged, iteration_count=3, reference_bus_id='VL1_0', slack_bus_results=[SlackBusResult(id='VL1_0', active_power_mismatch=-4.324395319610375e-06)], distributed_active_power=0.0)]\n"
     ]
    }
   ],
   "source": [
    "print(results)"
   ]
  }
 ],
 "metadata": {
  "kernelspec": {
   "display_name": ".venv",
   "language": "python",
   "name": "python3"
  },
  "language_info": {
   "codemirror_mode": {
    "name": "ipython",
    "version": 3
   },
   "file_extension": ".py",
   "mimetype": "text/x-python",
   "name": "python",
   "nbconvert_exporter": "python",
   "pygments_lexer": "ipython3",
   "version": "3.11.9"
  }
 },
 "nbformat": 4,
 "nbformat_minor": 2
}
