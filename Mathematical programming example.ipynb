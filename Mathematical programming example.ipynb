{
 "cells": [
  {
   "cell_type": "code",
   "execution_count": null,
   "metadata": {},
   "outputs": [],
   "source": [
    "#### Examples from Mathematical Programming for Power Systems Operation: From Theory to Applications in Python"
   ]
  },
  {
   "cell_type": "code",
   "execution_count": 3,
   "metadata": {},
   "outputs": [],
   "source": [
    "import numpy as np  \n",
    "import networkx as nx "
   ]
  },
  {
   "cell_type": "code",
   "execution_count": null,
   "metadata": {},
   "outputs": [
    {
     "data": {
      "image/png": "[encoded data removed]",
      "text/plain": [
       "<Figure size 640x480 with 1 Axes>"
      ]
     },
     "metadata": {},
     "output_type": "display_data"
    }
   ],
   "source": [
    "# creating a graph based on node-descriptions. Y is the admitance of each edge. Nodes has an Smax for production or a d for load definition\n",
    "G = nx.DiGraph() \n",
    "G.add_node(0,name='slack',smax=10,d=0) \n",
    "G.add_node(1,name='step',smax=0,d=0) \n",
    "G.add_node(2,name='house',smax=0,d=1.2+0.3j) \n",
    "G.add_node(3,name='solar',smax=1,d=0) \n",
    "G.add_node(4,name='building',smax=0,d=2.5+0.9j) \n",
    "G.add_node(5,name='wind',smax=1.5,d=0) \n",
    "G.add_edge(0,1,y=1/(0.0075+0.010j),thlim=2) \n",
    "G.add_edge(1,2,y=1/(0.0080+0.011j),thlim=2)\n",
    "G.add_edge(2,3,y=1/(0.0090+0.018j),thlim=2) \n",
    "G.add_edge(1,4,y=1/(0.0040+0.004j),thlim=2) \n",
    "G.add_edge(4,5,y=1/(0.0050+0.006j),thlim=2) \n",
    "nx.draw(G,with_labels=True,pos=nx.spectral_layout(G))"
   ]
  },
  {
   "cell_type": "code",
   "execution_count": null,
   "metadata": {},
   "outputs": [
    {
     "name": "stdout",
     "output_type": "stream",
     "text": [
      "Incidence matrix A: \n",
      "<Compressed Sparse Column sparse array of dtype 'float64'\n",
      "\twith 10 stored elements and shape (6, 5)>\n",
      "  Coords\tValues\n",
      "  (0, 0)\t-1.0\n",
      "  (1, 0)\t1.0\n",
      "  (1, 1)\t-1.0\n",
      "  (2, 1)\t1.0\n",
      "  (1, 2)\t-1.0\n",
      "  (4, 2)\t1.0\n",
      "  (2, 3)\t-1.0\n",
      "  (3, 3)\t1.0\n",
      "  (4, 4)\t-1.0\n",
      "  (5, 4)\t1.0\n",
      "Diagonal admittance matrix Yp: \n",
      "[[ 48.         -64.j           0.          +0.j\n",
      "    0.          +0.j           0.          +0.j\n",
      "    0.          +0.j        ]\n",
      " [  0.          +0.j          43.24324324 -59.45945946j\n",
      "    0.          +0.j           0.          +0.j\n",
      "    0.          +0.j        ]\n",
      " [  0.          +0.j           0.          +0.j\n",
      "  125.        -125.j           0.          +0.j\n",
      "    0.          +0.j        ]\n",
      " [  0.          +0.j           0.          +0.j\n",
      "    0.          +0.j          22.22222222 -44.44444444j\n",
      "    0.          +0.j        ]\n",
      " [  0.          +0.j           0.          +0.j\n",
      "    0.          +0.j           0.          +0.j\n",
      "   81.96721311 -98.36065574j]]\n",
      "Y bus matrix \n",
      "[[  48.         -64.j          -48.         +64.j\n",
      "     0.          +0.j            0.          +0.j\n",
      "     0.          +0.j            0.          +0.j        ]\n",
      " [ -48.         +64.j          216.24324324-248.45945946j\n",
      "   -43.24324324 +59.45945946j    0.          +0.j\n",
      "  -125.        +125.j            0.          +0.j        ]\n",
      " [   0.          +0.j          -43.24324324 +59.45945946j\n",
      "    65.46546547-103.9039039j   -22.22222222 +44.44444444j\n",
      "     0.          +0.j            0.          +0.j        ]\n",
      " [   0.          +0.j            0.          +0.j\n",
      "   -22.22222222 +44.44444444j   22.22222222 -44.44444444j\n",
      "     0.          +0.j            0.          +0.j        ]\n",
      " [   0.          +0.j         -125.        +125.j\n",
      "     0.          +0.j            0.          +0.j\n",
      "   206.96721311-223.36065574j  -81.96721311 +98.36065574j]\n",
      " [   0.          +0.j            0.          +0.j\n",
      "     0.          +0.j            0.          +0.j\n",
      "   -81.96721311 +98.36065574j   81.96721311 -98.36065574j]]\n",
      "Eigenvalues: \n",
      " [3.55850779e+02 1.53742122e+02 6.95171530e+01 4.52945499e+01\n",
      " 7.02436578e-15 1.64607529e+01]\n"
     ]
    }
   ],
   "source": [
    "A = nx.incidence_matrix(G,oriented=True) # creating an incidence matrix to describe how the edges and nodes are connected (with direction 1 for positive and -1 for negative)\n",
    "print(f'Incidence matrix A: \\n{A}')\n",
    "Yp = np.diag([G.edges[k]['y'] for k in G.edges]) # create a admittance matrix by adding the admittance values for each branch to the matrix\n",
    "print(f'Diagonal admittance matrix Yp: \\n{Yp}')\n",
    "Ybus = A@Yp@A.T\n",
    "print(f'Y bus matrix \\n{Ybus}')  \n",
    "print(f'Eigenvalues: \\n {np.linalg.eigvals(Ybus.real)}')"
   ]
  },
  {
   "cell_type": "code",
   "execution_count": 17,
   "metadata": {},
   "outputs": [
    {
     "name": "stdout",
     "output_type": "stream",
     "text": [
      "YN0:\n",
      "[-48.+64.j   0. +0.j   0. +0.j   0. +0.j   0. +0.j]\n",
      "Y0N:\n",
      "[-48.+64.j   0. +0.j   0. +0.j   0. +0.j   0. +0.j]\n",
      "YNN:\n",
      "[[ 216.24324324-248.45945946j  -43.24324324 +59.45945946j\n",
      "     0.          +0.j         -125.        +125.j\n",
      "     0.          +0.j        ]\n",
      " [ -43.24324324 +59.45945946j   65.46546547-103.9039039j\n",
      "   -22.22222222 +44.44444444j    0.          +0.j\n",
      "     0.          +0.j        ]\n",
      " [   0.          +0.j          -22.22222222 +44.44444444j\n",
      "    22.22222222 -44.44444444j    0.          +0.j\n",
      "     0.          +0.j        ]\n",
      " [-125.        +125.j            0.          +0.j\n",
      "     0.          +0.j          206.96721311-223.36065574j\n",
      "   -81.96721311 +98.36065574j]\n",
      " [   0.          +0.j            0.          +0.j\n",
      "     0.          +0.j          -81.96721311 +98.36065574j\n",
      "    81.96721311 -98.36065574j]]\n"
     ]
    }
   ],
   "source": [
    "n = G.number_of_nodes() \n",
    "YN0 = Ybus[1:n,0] \n",
    "Y0N = Ybus[0,1:n] \n",
    "YNN = Ybus[1:n,1:n] \n",
    "ZNN = np.linalg.inv(YNN) \n",
    "d = np.array([G.nodes[k]['d'] for k in G.nodes]) \n",
    "print(f'YN0:\\n{YN0}') \n",
    "print(f'Y0N:\\n{Y0N}') \n",
    "print(f'YNN:\\n{YNN}') "
   ]
  },
  {
   "cell_type": "code",
   "execution_count": 18,
   "metadata": {},
   "outputs": [],
   "source": [
    "def LoadFlow(sN,dN): \n",
    "    v0 = 1+0j \n",
    "    vN = np.ones(n-1)*v0 \n",
    "    for t in range(10):  \n",
    "        vN = ZNN@(np.conj((sN-dN)/vN)-v0*YN0) \n",
    "        vT = np.hstack([v0,vN]); sT = vT*np.conj(Ybus@vT) \n",
    "        err = np.linalg.norm(sT[1:n]-(sN-dN)) \n",
    "        print('Load Flow, after 10 iterations the error is',err)  \n",
    "        return vT"
   ]
  },
  {
   "cell_type": "code",
   "execution_count": 19,
   "metadata": {},
   "outputs": [
    {
     "name": "stdout",
     "output_type": "stream",
     "text": [
      "Load Flow, after 10 iterations the error is 0.18706514927959333\n",
      "Loss (0.1539549999999772+0.19637000000002514j)\n",
      "flow (0, 1) 3.8897300677553015\n",
      "flow (1, 2) 1.2369316876852838\n",
      "flow (1, 4) 2.657066051117307\n",
      "flow (2, 3) 3.447964101732324e-16\n",
      "flow (4, 5) 0.0\n"
     ]
    }
   ],
   "source": [
    "VT = LoadFlow(np.zeros(n-1),d[1:n]) \n",
    "ST = VT*np.conj(Ybus@VT) \n",
    "pL = sum(ST) \n",
    "print('Loss',pL) \n",
    "for (k,m) in G.edges: \n",
    "    Sf = Ybus[k,m]*(VT[k]-VT[m]) \n",
    "    print('flow',(k,m),np.abs(Sf))"
   ]
  }
 ],
 "metadata": {
  "kernelspec": {
   "display_name": ".venv",
   "language": "python",
   "name": "python3"
  },
  "language_info": {
   "codemirror_mode": {
    "name": "ipython",
    "version": 3
   },
   "file_extension": ".py",
   "mimetype": "text/x-python",
   "name": "python",
   "nbconvert_exporter": "python",
   "pygments_lexer": "ipython3",
   "version": "3.11.9"
  }
 },
 "nbformat": 4,
 "nbformat_minor": 2
}
